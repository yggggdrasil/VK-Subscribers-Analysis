{
 "cells": [
  {
   "cell_type": "code",
   "execution_count": 1,
   "id": "3a7ccafd",
   "metadata": {},
   "outputs": [],
   "source": [
    "import pandas as pd\n",
    "import numpy as np\n",
    "import scipy.stats as stats\n",
    "import seaborn as sns\n",
    "import matplotlib.pyplot as plt\n",
    "from sklearn.preprocessing import StandardScaler\n",
    "from sklearn.cluster import KMeans\n",
    "\n",
    "%matplotlib inline"
   ]
  },
  {
   "cell_type": "markdown",
   "id": "32f8236d",
   "metadata": {},
   "source": [
    "## Очистка\n",
    "Импортируем датасет и приведём его в удобных для анализа вид"
   ]
  },
  {
   "cell_type": "code",
   "execution_count": 169,
   "id": "02cf54cd",
   "metadata": {},
   "outputs": [],
   "source": [
    "subscriptions_info = pd.read_csv('subscriptions_info_2023-05-13.csv', index_col=0)"
   ]
  },
  {
   "cell_type": "code",
   "execution_count": 170,
   "id": "2f3aee74",
   "metadata": {},
   "outputs": [
    {
     "data": {
      "text/html": [
       "<div>\n",
       "<style scoped>\n",
       "    .dataframe tbody tr th:only-of-type {\n",
       "        vertical-align: middle;\n",
       "    }\n",
       "\n",
       "    .dataframe tbody tr th {\n",
       "        vertical-align: top;\n",
       "    }\n",
       "\n",
       "    .dataframe thead th {\n",
       "        text-align: right;\n",
       "    }\n",
       "</style>\n",
       "<table border=\"1\" class=\"dataframe\">\n",
       "  <thead>\n",
       "    <tr style=\"text-align: right;\">\n",
       "      <th></th>\n",
       "      <th>user_id</th>\n",
       "      <th>subscription_id</th>\n",
       "      <th>name</th>\n",
       "      <th>tag</th>\n",
       "    </tr>\n",
       "  </thead>\n",
       "  <tbody>\n",
       "    <tr>\n",
       "      <th>0</th>\n",
       "      <td>3326</td>\n",
       "      <td>50773809</td>\n",
       "      <td>Лига Твоих Путешествий</td>\n",
       "      <td>Туризм, путешествия</td>\n",
       "    </tr>\n",
       "    <tr>\n",
       "      <th>1</th>\n",
       "      <td>3326</td>\n",
       "      <td>57302136</td>\n",
       "      <td>Байки лаовая. Китай</td>\n",
       "      <td>Дискуссионный клуб</td>\n",
       "    </tr>\n",
       "    <tr>\n",
       "      <th>2</th>\n",
       "      <td>3326</td>\n",
       "      <td>122559372</td>\n",
       "      <td>Как в лучших домах Парижу</td>\n",
       "      <td>Дизайн интерьера</td>\n",
       "    </tr>\n",
       "    <tr>\n",
       "      <th>3</th>\n",
       "      <td>3326</td>\n",
       "      <td>60394841</td>\n",
       "      <td>Неизвестная Россия</td>\n",
       "      <td>Туризм, путешествия</td>\n",
       "    </tr>\n",
       "    <tr>\n",
       "      <th>4</th>\n",
       "      <td>3326</td>\n",
       "      <td>39695140</td>\n",
       "      <td>Типичный Милитарист</td>\n",
       "      <td>Вымышленный персонаж</td>\n",
       "    </tr>\n",
       "    <tr>\n",
       "      <th>...</th>\n",
       "      <td>...</td>\n",
       "      <td>...</td>\n",
       "      <td>...</td>\n",
       "      <td>...</td>\n",
       "    </tr>\n",
       "    <tr>\n",
       "      <th>11</th>\n",
       "      <td>775209069</td>\n",
       "      <td>28244389</td>\n",
       "      <td>Приморский район</td>\n",
       "      <td>Городское сообщество</td>\n",
       "    </tr>\n",
       "    <tr>\n",
       "      <th>12</th>\n",
       "      <td>775209069</td>\n",
       "      <td>159478970</td>\n",
       "      <td>МИР КУЛИНАРИИ</td>\n",
       "      <td>Кулинария, рецепты</td>\n",
       "    </tr>\n",
       "    <tr>\n",
       "      <th>13</th>\n",
       "      <td>775209069</td>\n",
       "      <td>217992260</td>\n",
       "      <td>Доктор Бабовников. Травматолог- ортопед</td>\n",
       "      <td>Врач</td>\n",
       "    </tr>\n",
       "    <tr>\n",
       "      <th>14</th>\n",
       "      <td>775209069</td>\n",
       "      <td>217992260</td>\n",
       "      <td>Доктор Бабовников. Травматолог- ортопед</td>\n",
       "      <td>Врач</td>\n",
       "    </tr>\n",
       "    <tr>\n",
       "      <th>15</th>\n",
       "      <td>775209069</td>\n",
       "      <td>217992260</td>\n",
       "      <td>Доктор Бабовников. Травматолог- ортопед</td>\n",
       "      <td>Врач</td>\n",
       "    </tr>\n",
       "  </tbody>\n",
       "</table>\n",
       "<p>786686 rows × 4 columns</p>\n",
       "</div>"
      ],
      "text/plain": [
       "      user_id  subscription_id                                     name  \\\n",
       "0        3326         50773809                   Лига Твоих Путешествий   \n",
       "1        3326         57302136                      Байки лаовая. Китай   \n",
       "2        3326        122559372                Как в лучших домах Парижу   \n",
       "3        3326         60394841                       Неизвестная Россия   \n",
       "4        3326         39695140                      Типичный Милитарист   \n",
       "..        ...              ...                                      ...   \n",
       "11  775209069         28244389                         Приморский район   \n",
       "12  775209069        159478970                            МИР КУЛИНАРИИ   \n",
       "13  775209069        217992260  Доктор Бабовников. Травматолог- ортопед   \n",
       "14  775209069        217992260  Доктор Бабовников. Травматолог- ортопед   \n",
       "15  775209069        217992260  Доктор Бабовников. Травматолог- ортопед   \n",
       "\n",
       "                     tag  \n",
       "0    Туризм, путешествия  \n",
       "1     Дискуссионный клуб  \n",
       "2       Дизайн интерьера  \n",
       "3    Туризм, путешествия  \n",
       "4   Вымышленный персонаж  \n",
       "..                   ...  \n",
       "11  Городское сообщество  \n",
       "12    Кулинария, рецепты  \n",
       "13                  Врач  \n",
       "14                  Врач  \n",
       "15                  Врач  \n",
       "\n",
       "[786686 rows x 4 columns]"
      ]
     },
     "execution_count": 170,
     "metadata": {},
     "output_type": "execute_result"
    }
   ],
   "source": [
    "subscriptions_info"
   ]
  },
  {
   "cell_type": "markdown",
   "id": "d570d2cf",
   "metadata": {},
   "source": [
    "Видим, что встречаются дубликаты. Нужно их удалить"
   ]
  },
  {
   "cell_type": "code",
   "execution_count": 171,
   "id": "d48287e7",
   "metadata": {},
   "outputs": [],
   "source": [
    "subscriptions_info.drop_duplicates(inplace=True)"
   ]
  },
  {
   "cell_type": "code",
   "execution_count": 172,
   "id": "0eb33d1d",
   "metadata": {},
   "outputs": [
    {
     "name": "stdout",
     "output_type": "stream",
     "text": [
      "<class 'pandas.core.frame.DataFrame'>\n",
      "Int64Index: 745709 entries, 0 to 13\n",
      "Data columns (total 4 columns):\n",
      " #   Column           Non-Null Count   Dtype \n",
      "---  ------           --------------   ----- \n",
      " 0   user_id          745709 non-null  int64 \n",
      " 1   subscription_id  745709 non-null  int64 \n",
      " 2   name             745704 non-null  object\n",
      " 3   tag              745709 non-null  object\n",
      "dtypes: int64(2), object(2)\n",
      "memory usage: 28.4+ MB\n"
     ]
    }
   ],
   "source": [
    "subscriptions_info.info()"
   ]
  },
  {
   "cell_type": "markdown",
   "id": "d4a3f526",
   "metadata": {},
   "source": [
    "Посмотрим на тэги"
   ]
  },
  {
   "cell_type": "code",
   "execution_count": 5,
   "id": "468fd956",
   "metadata": {},
   "outputs": [
    {
     "data": {
      "text/plain": [
       "Городское сообщество                                                                                                                                                                       44466\n",
       "Творчество                                                                                                                                                                                 34696\n",
       "Образование                                                                                                                                                                                32962\n",
       "Юмор                                                                                                                                                                                       30585\n",
       "Литература                                                                                                                                                                                 22102\n",
       "                                                                                                                                                                                           ...  \n",
       "Этот материал заблокирован на территории РФ на основании требования Генеральной прокуратуры Российской Федерации от 25.05.2022 № 27-31-2022/Ид7136-22                                          1\n",
       "Этот материал заблокирован на территории РФ на основании требования Генеральной прокуратуры Российской Федерации от 09.08.2022 № 73/3-105-2022                                                 1\n",
       "Этот материал заблокирован на территории РФ на основании требования Генеральной прокуратуры Российской Федерации от 05.07.2022 № 73/3-105-2022                                                 1\n",
       "Этот материал заблокирован на территории РФ на основании решения Федерального агентства по делам молодежи от 17.12.2021 № 2021-12-17-753-ВН                                                    1\n",
       "Этот материал заблокирован на территории РФ на основании решения Федеральной службы по надзору в сфере связи, массовых коммуникаций и информационных технологий от 18.10.2022 № 1850392        1\n",
       "Name: tag, Length: 664, dtype: int64"
      ]
     },
     "execution_count": 5,
     "metadata": {},
     "output_type": "execute_result"
    }
   ],
   "source": [
    "subscriptions_info.tag.value_counts()"
   ]
  },
  {
   "cell_type": "markdown",
   "id": "242fffad",
   "metadata": {},
   "source": [
    "У нас есть тэги, которые присваиваются заблокированным сообществам. Нужно от них избавиться"
   ]
  },
  {
   "cell_type": "code",
   "execution_count": 6,
   "id": "6e4bd018",
   "metadata": {},
   "outputs": [],
   "source": [
    "filtered_subscriptions = subscriptions_info[~subscriptions_info['tag'].str.contains('Этот материал заблокирован')]"
   ]
  },
  {
   "cell_type": "code",
   "execution_count": 7,
   "id": "768ed147",
   "metadata": {},
   "outputs": [
    {
     "data": {
      "text/plain": [
       "Городское сообщество    44466\n",
       "Творчество              34696\n",
       "Образование             32962\n",
       "Юмор                    30585\n",
       "Литература              22102\n",
       "                        ...  \n",
       "Биатлонист                  1\n",
       "Парк                        1\n",
       "Боксер                      1\n",
       "Почтовая служба             1\n",
       "Волейболист                 1\n",
       "Name: tag, Length: 458, dtype: int64"
      ]
     },
     "execution_count": 7,
     "metadata": {},
     "output_type": "execute_result"
    }
   ],
   "source": [
    "filtered_subscriptions.tag.value_counts()"
   ]
  },
  {
   "cell_type": "markdown",
   "id": "b301ee4d",
   "metadata": {},
   "source": [
    "## Данные\n",
    "Теперь посмотрим на сами данные"
   ]
  },
  {
   "cell_type": "markdown",
   "id": "9fa2c1ae",
   "metadata": {},
   "source": [
    "#### Количество уникальных подписчиков"
   ]
  },
  {
   "cell_type": "code",
   "execution_count": 8,
   "id": "bce2ff4a",
   "metadata": {},
   "outputs": [
    {
     "data": {
      "text/plain": [
       "6335"
      ]
     },
     "execution_count": 8,
     "metadata": {},
     "output_type": "execute_result"
    }
   ],
   "source": [
    "filtered_subscriptions.user_id.nunique()"
   ]
  },
  {
   "cell_type": "markdown",
   "id": "f912b6ae",
   "metadata": {},
   "source": [
    "#### Описательные статистики по количеству подпискок\n",
    "Для каждого пользователя было выбрано 200 подписок, которые наиболее отражают его интересы"
   ]
  },
  {
   "cell_type": "code",
   "execution_count": 9,
   "id": "443584b9",
   "metadata": {},
   "outputs": [
    {
     "data": {
      "text/plain": [
       "count    6335.000000\n",
       "mean      117.412944\n",
       "std        71.211357\n",
       "min         1.000000\n",
       "25%        50.000000\n",
       "50%       115.000000\n",
       "75%       198.000000\n",
       "max       200.000000\n",
       "Name: name, dtype: float64"
      ]
     },
     "execution_count": 9,
     "metadata": {},
     "output_type": "execute_result"
    }
   ],
   "source": [
    "filtered_subscriptions.groupby('user_id') \\\n",
    "                    .agg({'name':'count'}) \\\n",
    "                    .name.describe()"
   ]
  },
  {
   "cell_type": "markdown",
   "id": "db804edd",
   "metadata": {},
   "source": [
    "#### Количество уникальных групп"
   ]
  },
  {
   "cell_type": "code",
   "execution_count": 10,
   "id": "6b83ea78",
   "metadata": {},
   "outputs": [
    {
     "data": {
      "text/plain": [
       "178810"
      ]
     },
     "execution_count": 10,
     "metadata": {},
     "output_type": "execute_result"
    }
   ],
   "source": [
    "filtered_subscriptions.name.nunique()"
   ]
  },
  {
   "cell_type": "markdown",
   "id": "8700964e",
   "metadata": {},
   "source": [
    "#### Топ-15 самых популярных групп"
   ]
  },
  {
   "cell_type": "code",
   "execution_count": 11,
   "id": "a80a822f",
   "metadata": {},
   "outputs": [
    {
     "data": {
      "text/plain": [
       "Интересные события в Санкт-Петербурге              1338\n",
       "Книги                                              1067\n",
       "Интересный Питер                                   1051\n",
       "Правительство Санкт-Петербурга                     1012\n",
       "KudaGo: Санкт-Петербург                             861\n",
       "Горбилет – билеты со скидкой                        813\n",
       "Это Питер, детка! [Типичный Питер]                  808\n",
       "Ищу модель Питер                                    780\n",
       "Приморский Онлайн | Новости нашего района | СПб     775\n",
       "Vandrouki | Путешествия почти бесплатно (RU)        750\n",
       "Мой Питер                                           675\n",
       "Афиша событий Петербурга                            660\n",
       "ДЕТСКИЕ ПОДЕЛКИ                                     629\n",
       "Бесплатный Питер                                    627\n",
       "Библиотека имени Маяковского                        615\n",
       "Name: name, dtype: int64"
      ]
     },
     "execution_count": 11,
     "metadata": {},
     "output_type": "execute_result"
    }
   ],
   "source": [
    "filtered_subscriptions.name.value_counts().head(15)"
   ]
  },
  {
   "cell_type": "markdown",
   "id": "42cdebe4",
   "metadata": {},
   "source": [
    "На графике"
   ]
  },
  {
   "cell_type": "code",
   "execution_count": 180,
   "id": "e8e0d7a9",
   "metadata": {},
   "outputs": [
    {
     "data": {
      "image/png": "[encoded data removed]",
      "text/plain": [
       "<Figure size 640x480 with 1 Axes>"
      ]
     },
     "metadata": {},
     "output_type": "display_data"
    }
   ],
   "source": [
    "top15_groups = filtered_subscriptions.groupby('name', as_index=False) \\\n",
    "                    .agg({'subscription_id': 'count'}) \\\n",
    "                    .sort_values('subscription_id', ascending=False) \\\n",
    "                    .head(15)\n",
    "\n",
    "ax = sns.barplot(data=top15_groups,\n",
    "                 y='name',\n",
    "                 x='subscription_id')\n",
    "\n",
    "ax.set_ylabel('')\n",
    "ax.set_xlabel('Количество')\n",
    "plt.show()"
   ]
  },
  {
   "cell_type": "markdown",
   "id": "dbff6422",
   "metadata": {},
   "source": [
    "#### Количество уникальных тэгов"
   ]
  },
  {
   "cell_type": "code",
   "execution_count": 12,
   "id": "e79ef738",
   "metadata": {},
   "outputs": [
    {
     "data": {
      "text/plain": [
       "458"
      ]
     },
     "execution_count": 12,
     "metadata": {},
     "output_type": "execute_result"
    }
   ],
   "source": [
    "filtered_subscriptions.tag.nunique()"
   ]
  },
  {
   "cell_type": "markdown",
   "id": "2aa6d5be",
   "metadata": {},
   "source": [
    "#### Описательные статистики для уникальных тэгов в группах подписчиков"
   ]
  },
  {
   "cell_type": "code",
   "execution_count": 13,
   "id": "c3a92c91",
   "metadata": {},
   "outputs": [
    {
     "data": {
      "text/plain": [
       "count    6335.000000\n",
       "mean       47.071507\n",
       "std        24.217950\n",
       "min         1.000000\n",
       "25%        27.000000\n",
       "50%        48.000000\n",
       "75%        65.000000\n",
       "max       111.000000\n",
       "Name: tag, dtype: float64"
      ]
     },
     "execution_count": 13,
     "metadata": {},
     "output_type": "execute_result"
    }
   ],
   "source": [
    "filtered_subscriptions.groupby('user_id') \\\n",
    "    .agg({'tag': 'nunique'}) \\\n",
    "    .tag.describe()"
   ]
  },
  {
   "cell_type": "markdown",
   "id": "9cdfe619",
   "metadata": {},
   "source": [
    "#### Топ-15 самых популярных тэгов"
   ]
  },
  {
   "cell_type": "code",
   "execution_count": 14,
   "id": "b9d45ad9",
   "metadata": {},
   "outputs": [
    {
     "data": {
      "text/plain": [
       "Городское сообщество           44466\n",
       "Творчество                     34696\n",
       "Образование                    32962\n",
       "Юмор                           30585\n",
       "Литература                     22102\n",
       "Культура                       21195\n",
       "Интернет-СМИ                   18416\n",
       "Библиотека                     15693\n",
       "Государственная организация    15576\n",
       "Родители и дети                15075\n",
       "Кулинария, рецепты             14662\n",
       "Туризм, путешествия            14467\n",
       "Кино                           11755\n",
       "Здоровый образ жизни           11569\n",
       "Объявления                     10919\n",
       "Name: tag, dtype: int64"
      ]
     },
     "execution_count": 14,
     "metadata": {},
     "output_type": "execute_result"
    }
   ],
   "source": [
    "filtered_subscriptions.tag.value_counts().head(15)"
   ]
  },
  {
   "cell_type": "code",
   "execution_count": 182,
   "id": "512a1765",
   "metadata": {},
   "outputs": [
    {
     "data": {
      "image/png": "[encoded data removed]",
      "text/plain": [
       "<Figure size 640x480 with 1 Axes>"
      ]
     },
     "metadata": {},
     "output_type": "display_data"
    }
   ],
   "source": [
    "top15_tags = filtered_subscriptions.groupby('tag', as_index=False) \\\n",
    "                    .agg({'subscription_id': 'count'}) \\\n",
    "                    .sort_values('subscription_id', ascending=False) \\\n",
    "                    .head(15)\n",
    "\n",
    "ax = sns.barplot(data=top15_tags,\n",
    "                 y='tag',\n",
    "                 x='subscription_id')\n",
    "\n",
    "ax.set_ylabel('')\n",
    "ax.set_xlabel('Количество')\n",
    "plt.show()"
   ]
  },
  {
   "cell_type": "markdown",
   "id": "09354bc6",
   "metadata": {},
   "source": [
    "## Тэги\n",
    "В датасете присутсвуют тэги, которые можно объединить в более общие группы. Была составлена таблица общих тэгов."
   ]
  },
  {
   "cell_type": "code",
   "execution_count": 15,
   "id": "301e406a",
   "metadata": {},
   "outputs": [],
   "source": [
    "tags = pd.read_excel('tags.xlsx', sheet_name=\"try2\")"
   ]
  },
  {
   "cell_type": "code",
   "execution_count": 16,
   "id": "409ba612",
   "metadata": {},
   "outputs": [
    {
     "data": {
      "text/html": [
       "<div>\n",
       "<style scoped>\n",
       "    .dataframe tbody tr th:only-of-type {\n",
       "        vertical-align: middle;\n",
       "    }\n",
       "\n",
       "    .dataframe tbody tr th {\n",
       "        vertical-align: top;\n",
       "    }\n",
       "\n",
       "    .dataframe thead th {\n",
       "        text-align: right;\n",
       "    }\n",
       "</style>\n",
       "<table border=\"1\" class=\"dataframe\">\n",
       "  <thead>\n",
       "    <tr style=\"text-align: right;\">\n",
       "      <th></th>\n",
       "      <th>activism</th>\n",
       "      <th>ads</th>\n",
       "      <th>job</th>\n",
       "      <th>meeting</th>\n",
       "      <th>adverts</th>\n",
       "      <th>animals</th>\n",
       "      <th>art</th>\n",
       "      <th>auto</th>\n",
       "      <th>adult</th>\n",
       "      <th>blog</th>\n",
       "      <th>...</th>\n",
       "      <th>recreation</th>\n",
       "      <th>religion</th>\n",
       "      <th>science</th>\n",
       "      <th>service</th>\n",
       "      <th>shopping</th>\n",
       "      <th>site</th>\n",
       "      <th>sport</th>\n",
       "      <th>technology</th>\n",
       "      <th>travel</th>\n",
       "      <th>videogames</th>\n",
       "    </tr>\n",
       "  </thead>\n",
       "  <tbody>\n",
       "    <tr>\n",
       "      <th>0</th>\n",
       "      <td>Общественный деятель</td>\n",
       "      <td>Реклама</td>\n",
       "      <td>Поиск работы</td>\n",
       "      <td>Знакомства</td>\n",
       "      <td>Объявления</td>\n",
       "      <td>Зоомагазин</td>\n",
       "      <td>Художник</td>\n",
       "      <td>Услуги для автовладельцев</td>\n",
       "      <td>Эротика</td>\n",
       "      <td>Блог</td>\n",
       "      <td>...</td>\n",
       "      <td>Санаторий, дом отдыха</td>\n",
       "      <td>Духовное лицо</td>\n",
       "      <td>Философия</td>\n",
       "      <td>Другие услуги</td>\n",
       "      <td>Потребительские товары</td>\n",
       "      <td>Вконтакте</td>\n",
       "      <td>Спортивный клуб</td>\n",
       "      <td>Высокие технологии</td>\n",
       "      <td>Туристическое агентство</td>\n",
       "      <td>Игра</td>\n",
       "    </tr>\n",
       "    <tr>\n",
       "      <th>1</th>\n",
       "      <td>Благотворительность</td>\n",
       "      <td>NaN</td>\n",
       "      <td>NaN</td>\n",
       "      <td>NaN</td>\n",
       "      <td>NaN</td>\n",
       "      <td>Зоопарк</td>\n",
       "      <td>Художница</td>\n",
       "      <td>Автовладельцы</td>\n",
       "      <td>Товары для взрослых</td>\n",
       "      <td>Производство контента</td>\n",
       "      <td>...</td>\n",
       "      <td>Парк отдыха</td>\n",
       "      <td>Религиозное учреждение</td>\n",
       "      <td>История</td>\n",
       "      <td>Профессиональные услуги</td>\n",
       "      <td>Товар</td>\n",
       "      <td>Сайт</td>\n",
       "      <td>Другие виды спорта</td>\n",
       "      <td>Программное обеспечение</td>\n",
       "      <td>Туры, экскурсии</td>\n",
       "      <td>Видеоигры</td>\n",
       "    </tr>\n",
       "    <tr>\n",
       "      <th>2</th>\n",
       "      <td>Благотворительная организация</td>\n",
       "      <td>NaN</td>\n",
       "      <td>NaN</td>\n",
       "      <td>NaN</td>\n",
       "      <td>NaN</td>\n",
       "      <td>Домашние и дикие животные</td>\n",
       "      <td>Художник или художница</td>\n",
       "      <td>Аренда автомобилей</td>\n",
       "      <td>NaN</td>\n",
       "      <td>Блогер</td>\n",
       "      <td>...</td>\n",
       "      <td>Активный отдых</td>\n",
       "      <td>Религия</td>\n",
       "      <td>Наука</td>\n",
       "      <td>Интернет-провайдер</td>\n",
       "      <td>Другие товары</td>\n",
       "      <td>Сайты</td>\n",
       "      <td>Спортивная организация</td>\n",
       "      <td>Программирование</td>\n",
       "      <td>Туризм, путешествия</td>\n",
       "      <td>Игры</td>\n",
       "    </tr>\n",
       "    <tr>\n",
       "      <th>3</th>\n",
       "      <td>Общественная организация</td>\n",
       "      <td>NaN</td>\n",
       "      <td>NaN</td>\n",
       "      <td>NaN</td>\n",
       "      <td>NaN</td>\n",
       "      <td>Товары для животных</td>\n",
       "      <td>Творческое объединение</td>\n",
       "      <td>Автосервис</td>\n",
       "      <td>NaN</td>\n",
       "      <td>Критик</td>\n",
       "      <td>...</td>\n",
       "      <td>Организация праздников</td>\n",
       "      <td>Языки</td>\n",
       "      <td>Юриспруденция</td>\n",
       "      <td>Транспортные услуги</td>\n",
       "      <td>Товары для праздников</td>\n",
       "      <td>ВКонтакте</td>\n",
       "      <td>Спортивная команда</td>\n",
       "      <td>Электроника</td>\n",
       "      <td>Аэропорт, вокзал</td>\n",
       "      <td>Видеоигра</td>\n",
       "    </tr>\n",
       "    <tr>\n",
       "      <th>4</th>\n",
       "      <td>Молодёжное движение</td>\n",
       "      <td>NaN</td>\n",
       "      <td>NaN</td>\n",
       "      <td>NaN</td>\n",
       "      <td>NaN</td>\n",
       "      <td>Услуги для владельцев животных</td>\n",
       "      <td>NaN</td>\n",
       "      <td>Автомобили</td>\n",
       "      <td>NaN</td>\n",
       "      <td>NaN</td>\n",
       "      <td>...</td>\n",
       "      <td>NaN</td>\n",
       "      <td>Астрология, эзотерика</td>\n",
       "      <td>NaN</td>\n",
       "      <td>Пассажирские перевозки</td>\n",
       "      <td>Товары для дома</td>\n",
       "      <td>NaN</td>\n",
       "      <td>Футбол</td>\n",
       "      <td>Интернет</td>\n",
       "      <td>Продажа билетов, бронирование гостиниц</td>\n",
       "      <td>Стример</td>\n",
       "    </tr>\n",
       "  </tbody>\n",
       "</table>\n",
       "<p>5 rows × 66 columns</p>\n",
       "</div>"
      ],
      "text/plain": [
       "                        activism      ads           job     meeting  \\\n",
       "0           Общественный деятель  Реклама  Поиск работы  Знакомства   \n",
       "1            Благотворительность      NaN           NaN         NaN   \n",
       "2  Благотворительная организация      NaN           NaN         NaN   \n",
       "3       Общественная организация      NaN           NaN         NaN   \n",
       "4            Молодёжное движение      NaN           NaN         NaN   \n",
       "\n",
       "      adverts                         animals                     art  \\\n",
       "0  Объявления                      Зоомагазин                Художник   \n",
       "1         NaN                         Зоопарк               Художница   \n",
       "2         NaN       Домашние и дикие животные  Художник или художница   \n",
       "3         NaN             Товары для животных  Творческое объединение   \n",
       "4         NaN  Услуги для владельцев животных                     NaN   \n",
       "\n",
       "                        auto                adult                   blog  ...  \\\n",
       "0  Услуги для автовладельцев              Эротика                   Блог  ...   \n",
       "1              Автовладельцы  Товары для взрослых  Производство контента  ...   \n",
       "2         Аренда автомобилей                  NaN                 Блогер  ...   \n",
       "3                 Автосервис                  NaN                 Критик  ...   \n",
       "4                 Автомобили                  NaN                    NaN  ...   \n",
       "\n",
       "               recreation                religion        science  \\\n",
       "0   Санаторий, дом отдыха           Духовное лицо      Философия   \n",
       "1             Парк отдыха  Религиозное учреждение        История   \n",
       "2          Активный отдых                 Религия          Наука   \n",
       "3  Организация праздников                   Языки  Юриспруденция   \n",
       "4                     NaN   Астрология, эзотерика            NaN   \n",
       "\n",
       "                   service                shopping       site  \\\n",
       "0            Другие услуги  Потребительские товары  Вконтакте   \n",
       "1  Профессиональные услуги                   Товар       Сайт   \n",
       "2       Интернет-провайдер           Другие товары      Сайты   \n",
       "3      Транспортные услуги   Товары для праздников  ВКонтакте   \n",
       "4   Пассажирские перевозки         Товары для дома        NaN   \n",
       "\n",
       "                    sport               technology  \\\n",
       "0         Спортивный клуб       Высокие технологии   \n",
       "1      Другие виды спорта  Программное обеспечение   \n",
       "2  Спортивная организация         Программирование   \n",
       "3      Спортивная команда              Электроника   \n",
       "4                  Футбол                 Интернет   \n",
       "\n",
       "                                   travel videogames  \n",
       "0                 Туристическое агентство       Игра  \n",
       "1                         Туры, экскурсии  Видеоигры  \n",
       "2                     Туризм, путешествия       Игры  \n",
       "3                        Аэропорт, вокзал  Видеоигра  \n",
       "4  Продажа билетов, бронирование гостиниц    Стример  \n",
       "\n",
       "[5 rows x 66 columns]"
      ]
     },
     "execution_count": 16,
     "metadata": {},
     "output_type": "execute_result"
    }
   ],
   "source": [
    "tags.head()"
   ]
  },
  {
   "cell_type": "code",
   "execution_count": 17,
   "id": "7cbe14eb",
   "metadata": {},
   "outputs": [],
   "source": [
    "# Функция для перевода датафрейма в словарь вида {'колонка': 'значения'}\n",
    "def dataframe_to_dict(df):\n",
    "    result_dict = {}\n",
    "    columns = df.columns.tolist()  # Получаем список названий колонок\n",
    "\n",
    "    for column in columns:\n",
    "        result_dict[column] = df[column].dropna().tolist()  # Исключаем NaN значения из списка\n",
    "\n",
    "    return result_dict"
   ]
  },
  {
   "cell_type": "code",
   "execution_count": 18,
   "id": "d9f664cb",
   "metadata": {},
   "outputs": [],
   "source": [
    "tags_dict = dataframe_to_dict(tags)"
   ]
  },
  {
   "cell_type": "code",
   "execution_count": 19,
   "id": "9f17d9f1",
   "metadata": {},
   "outputs": [
    {
     "data": {
      "text/plain": [
       "['Общественный деятель',\n",
       " 'Благотворительность',\n",
       " 'Благотворительная организация',\n",
       " 'Общественная организация',\n",
       " 'Молодёжное движение',\n",
       " 'Некоммерческая организация',\n",
       " 'Общественное движение']"
      ]
     },
     "execution_count": 19,
     "metadata": {},
     "output_type": "execute_result"
    }
   ],
   "source": [
    "#Проверим\n",
    "tags_dict['activism']"
   ]
  },
  {
   "cell_type": "markdown",
   "id": "039a6d52",
   "metadata": {},
   "source": [
    "Добавим в датасет общие тэги"
   ]
  },
  {
   "cell_type": "code",
   "execution_count": 20,
   "id": "e37e1c92",
   "metadata": {},
   "outputs": [],
   "source": [
    "df = filtered_subscriptions.copy()"
   ]
  },
  {
   "cell_type": "code",
   "execution_count": 21,
   "id": "9f47a63a",
   "metadata": {},
   "outputs": [],
   "source": [
    "# Функиця для присвоения новых тэгов\n",
    "def find_key(value):\n",
    "    global tags_dict\n",
    "    for key, values in tags_dict.items():\n",
    "        if value in values:\n",
    "            return key\n",
    "    return f\"значения {value} нет в списке\""
   ]
  },
  {
   "cell_type": "code",
   "execution_count": 22,
   "id": "e5c3e756",
   "metadata": {},
   "outputs": [],
   "source": [
    "df['general_tag']= df.tag.apply(find_key)"
   ]
  },
  {
   "cell_type": "code",
   "execution_count": 23,
   "id": "cd726562",
   "metadata": {},
   "outputs": [
    {
     "data": {
      "text/html": [
       "<div>\n",
       "<style scoped>\n",
       "    .dataframe tbody tr th:only-of-type {\n",
       "        vertical-align: middle;\n",
       "    }\n",
       "\n",
       "    .dataframe tbody tr th {\n",
       "        vertical-align: top;\n",
       "    }\n",
       "\n",
       "    .dataframe thead th {\n",
       "        text-align: right;\n",
       "    }\n",
       "</style>\n",
       "<table border=\"1\" class=\"dataframe\">\n",
       "  <thead>\n",
       "    <tr style=\"text-align: right;\">\n",
       "      <th></th>\n",
       "      <th>user_id</th>\n",
       "      <th>subscription_id</th>\n",
       "      <th>name</th>\n",
       "      <th>tag</th>\n",
       "      <th>general_tag</th>\n",
       "    </tr>\n",
       "  </thead>\n",
       "  <tbody>\n",
       "    <tr>\n",
       "      <th>0</th>\n",
       "      <td>3326</td>\n",
       "      <td>50773809</td>\n",
       "      <td>Лига Твоих Путешествий</td>\n",
       "      <td>Туризм, путешествия</td>\n",
       "      <td>travel</td>\n",
       "    </tr>\n",
       "    <tr>\n",
       "      <th>1</th>\n",
       "      <td>3326</td>\n",
       "      <td>57302136</td>\n",
       "      <td>Байки лаовая. Китай</td>\n",
       "      <td>Дискуссионный клуб</td>\n",
       "      <td>hobby</td>\n",
       "    </tr>\n",
       "    <tr>\n",
       "      <th>2</th>\n",
       "      <td>3326</td>\n",
       "      <td>122559372</td>\n",
       "      <td>Как в лучших домах Парижу</td>\n",
       "      <td>Дизайн интерьера</td>\n",
       "      <td>design</td>\n",
       "    </tr>\n",
       "    <tr>\n",
       "      <th>3</th>\n",
       "      <td>3326</td>\n",
       "      <td>60394841</td>\n",
       "      <td>Неизвестная Россия</td>\n",
       "      <td>Туризм, путешествия</td>\n",
       "      <td>travel</td>\n",
       "    </tr>\n",
       "    <tr>\n",
       "      <th>4</th>\n",
       "      <td>3326</td>\n",
       "      <td>39695140</td>\n",
       "      <td>Типичный Милитарист</td>\n",
       "      <td>Вымышленный персонаж</td>\n",
       "      <td>fan</td>\n",
       "    </tr>\n",
       "  </tbody>\n",
       "</table>\n",
       "</div>"
      ],
      "text/plain": [
       "   user_id  subscription_id                       name                   tag  \\\n",
       "0     3326         50773809     Лига Твоих Путешествий   Туризм, путешествия   \n",
       "1     3326         57302136        Байки лаовая. Китай    Дискуссионный клуб   \n",
       "2     3326        122559372  Как в лучших домах Парижу      Дизайн интерьера   \n",
       "3     3326         60394841         Неизвестная Россия   Туризм, путешествия   \n",
       "4     3326         39695140        Типичный Милитарист  Вымышленный персонаж   \n",
       "\n",
       "  general_tag  \n",
       "0      travel  \n",
       "1       hobby  \n",
       "2      design  \n",
       "3      travel  \n",
       "4         fan  "
      ]
     },
     "execution_count": 23,
     "metadata": {},
     "output_type": "execute_result"
    }
   ],
   "source": [
    "df.head()"
   ]
  },
  {
   "cell_type": "markdown",
   "id": "fc506b01",
   "metadata": {},
   "source": [
    "Проверим, добавились ли все тэги"
   ]
  },
  {
   "cell_type": "code",
   "execution_count": 24,
   "id": "93a167ae",
   "metadata": {},
   "outputs": [
    {
     "data": {
      "text/plain": [
       "66"
      ]
     },
     "execution_count": 24,
     "metadata": {},
     "output_type": "execute_result"
    }
   ],
   "source": [
    "df.general_tag.nunique()"
   ]
  },
  {
   "cell_type": "markdown",
   "id": "5a1a0565",
   "metadata": {},
   "source": [
    "#### Описательные статистики для уникальных общих тэгов в группах подписчиков"
   ]
  },
  {
   "cell_type": "code",
   "execution_count": 25,
   "id": "433873b4",
   "metadata": {},
   "outputs": [
    {
     "data": {
      "text/plain": [
       "count    6335.000000\n",
       "mean       29.567640\n",
       "std        11.828975\n",
       "min         1.000000\n",
       "25%        21.000000\n",
       "50%        32.000000\n",
       "75%        39.000000\n",
       "max        55.000000\n",
       "Name: general_tag, dtype: float64"
      ]
     },
     "execution_count": 25,
     "metadata": {},
     "output_type": "execute_result"
    }
   ],
   "source": [
    "df.groupby('user_id') \\\n",
    "    .agg({'general_tag': 'nunique'}) \\\n",
    "    .general_tag.describe()"
   ]
  },
  {
   "cell_type": "markdown",
   "id": "18994244",
   "metadata": {},
   "source": [
    "#### Посмотрим на топ-15 общих тэгов"
   ]
  },
  {
   "cell_type": "code",
   "execution_count": 26,
   "id": "d64c2801",
   "metadata": {},
   "outputs": [
    {
     "data": {
      "text/plain": [
       "literature    52368\n",
       "city          44466\n",
       "creativity    36883\n",
       "education     32962\n",
       "humor         30855\n",
       "music         26676\n",
       "cinema_tv     24314\n",
       "culture       22764\n",
       "media         21025\n",
       "travel        20954\n",
       "children      19625\n",
       "fashion       18323\n",
       "perfomance    18113\n",
       "health        17521\n",
       "science       17454\n",
       "Name: general_tag, dtype: int64"
      ]
     },
     "execution_count": 26,
     "metadata": {},
     "output_type": "execute_result"
    }
   ],
   "source": [
    "df.general_tag.value_counts().head(15)"
   ]
  },
  {
   "cell_type": "code",
   "execution_count": 183,
   "id": "810177bc",
   "metadata": {},
   "outputs": [
    {
     "data": {
      "image/png": "[encoded data removed]",
      "text/plain": [
       "<Figure size 640x480 with 1 Axes>"
      ]
     },
     "metadata": {},
     "output_type": "display_data"
    }
   ],
   "source": [
    "top15_groups = df.groupby('general_tag', as_index=False) \\\n",
    "                    .agg({'subscription_id': 'count'}) \\\n",
    "                    .sort_values('subscription_id', ascending=False) \\\n",
    "                    .head(15)\n",
    "\n",
    "ax = sns.barplot(data=top15_groups,\n",
    "                 y='general_tag',\n",
    "                 x='subscription_id')\n",
    "\n",
    "ax.set_ylabel('')\n",
    "ax.set_xlabel('Количество')\n",
    "plt.show()"
   ]
  },
  {
   "cell_type": "markdown",
   "id": "01b9eef5",
   "metadata": {},
   "source": [
    "## Подготовка к кластеризации\n",
    "Посмотрим новую таблицу, в которой для каждого пользователя будет посчитатано количество тэгов сообществ, на которые он подписан"
   ]
  },
  {
   "cell_type": "code",
   "execution_count": 253,
   "id": "5ab5653b",
   "metadata": {},
   "outputs": [],
   "source": [
    "df_pivot = df.pivot_table(values='name', index='user_id', columns='general_tag', aggfunc='count', fill_value=0) \\\n",
    "            .rename_axis(None, axis=1)"
   ]
  },
  {
   "cell_type": "code",
   "execution_count": 254,
   "id": "adda19ef",
   "metadata": {},
   "outputs": [
    {
     "data": {
      "text/html": [
       "<div>\n",
       "<style scoped>\n",
       "    .dataframe tbody tr th:only-of-type {\n",
       "        vertical-align: middle;\n",
       "    }\n",
       "\n",
       "    .dataframe tbody tr th {\n",
       "        vertical-align: top;\n",
       "    }\n",
       "\n",
       "    .dataframe thead th {\n",
       "        text-align: right;\n",
       "    }\n",
       "</style>\n",
       "<table border=\"1\" class=\"dataframe\">\n",
       "  <thead>\n",
       "    <tr style=\"text-align: right;\">\n",
       "      <th></th>\n",
       "      <th>activism</th>\n",
       "      <th>ads</th>\n",
       "      <th>adult</th>\n",
       "      <th>adverts</th>\n",
       "      <th>animals</th>\n",
       "      <th>art</th>\n",
       "      <th>auto</th>\n",
       "      <th>beauty</th>\n",
       "      <th>blog</th>\n",
       "      <th>business</th>\n",
       "      <th>...</th>\n",
       "      <th>service</th>\n",
       "      <th>shopping</th>\n",
       "      <th>site</th>\n",
       "      <th>society</th>\n",
       "      <th>sport</th>\n",
       "      <th>teacher</th>\n",
       "      <th>technology</th>\n",
       "      <th>travel</th>\n",
       "      <th>university</th>\n",
       "      <th>videogames</th>\n",
       "    </tr>\n",
       "    <tr>\n",
       "      <th>user_id</th>\n",
       "      <th></th>\n",
       "      <th></th>\n",
       "      <th></th>\n",
       "      <th></th>\n",
       "      <th></th>\n",
       "      <th></th>\n",
       "      <th></th>\n",
       "      <th></th>\n",
       "      <th></th>\n",
       "      <th></th>\n",
       "      <th></th>\n",
       "      <th></th>\n",
       "      <th></th>\n",
       "      <th></th>\n",
       "      <th></th>\n",
       "      <th></th>\n",
       "      <th></th>\n",
       "      <th></th>\n",
       "      <th></th>\n",
       "      <th></th>\n",
       "      <th></th>\n",
       "    </tr>\n",
       "  </thead>\n",
       "  <tbody>\n",
       "    <tr>\n",
       "      <th>821</th>\n",
       "      <td>5</td>\n",
       "      <td>0</td>\n",
       "      <td>0</td>\n",
       "      <td>2</td>\n",
       "      <td>0</td>\n",
       "      <td>1</td>\n",
       "      <td>0</td>\n",
       "      <td>0</td>\n",
       "      <td>1</td>\n",
       "      <td>2</td>\n",
       "      <td>...</td>\n",
       "      <td>5</td>\n",
       "      <td>3</td>\n",
       "      <td>1</td>\n",
       "      <td>0</td>\n",
       "      <td>6</td>\n",
       "      <td>0</td>\n",
       "      <td>0</td>\n",
       "      <td>3</td>\n",
       "      <td>0</td>\n",
       "      <td>0</td>\n",
       "    </tr>\n",
       "    <tr>\n",
       "      <th>1292</th>\n",
       "      <td>0</td>\n",
       "      <td>0</td>\n",
       "      <td>0</td>\n",
       "      <td>0</td>\n",
       "      <td>0</td>\n",
       "      <td>0</td>\n",
       "      <td>0</td>\n",
       "      <td>0</td>\n",
       "      <td>0</td>\n",
       "      <td>0</td>\n",
       "      <td>...</td>\n",
       "      <td>0</td>\n",
       "      <td>0</td>\n",
       "      <td>0</td>\n",
       "      <td>0</td>\n",
       "      <td>4</td>\n",
       "      <td>0</td>\n",
       "      <td>0</td>\n",
       "      <td>0</td>\n",
       "      <td>0</td>\n",
       "      <td>0</td>\n",
       "    </tr>\n",
       "    <tr>\n",
       "      <th>3172</th>\n",
       "      <td>0</td>\n",
       "      <td>7</td>\n",
       "      <td>0</td>\n",
       "      <td>1</td>\n",
       "      <td>2</td>\n",
       "      <td>0</td>\n",
       "      <td>3</td>\n",
       "      <td>1</td>\n",
       "      <td>4</td>\n",
       "      <td>12</td>\n",
       "      <td>...</td>\n",
       "      <td>2</td>\n",
       "      <td>2</td>\n",
       "      <td>7</td>\n",
       "      <td>2</td>\n",
       "      <td>4</td>\n",
       "      <td>0</td>\n",
       "      <td>2</td>\n",
       "      <td>5</td>\n",
       "      <td>0</td>\n",
       "      <td>0</td>\n",
       "    </tr>\n",
       "    <tr>\n",
       "      <th>3326</th>\n",
       "      <td>2</td>\n",
       "      <td>0</td>\n",
       "      <td>0</td>\n",
       "      <td>0</td>\n",
       "      <td>2</td>\n",
       "      <td>4</td>\n",
       "      <td>5</td>\n",
       "      <td>0</td>\n",
       "      <td>1</td>\n",
       "      <td>3</td>\n",
       "      <td>...</td>\n",
       "      <td>1</td>\n",
       "      <td>0</td>\n",
       "      <td>2</td>\n",
       "      <td>5</td>\n",
       "      <td>1</td>\n",
       "      <td>0</td>\n",
       "      <td>9</td>\n",
       "      <td>23</td>\n",
       "      <td>3</td>\n",
       "      <td>0</td>\n",
       "    </tr>\n",
       "    <tr>\n",
       "      <th>3357</th>\n",
       "      <td>0</td>\n",
       "      <td>1</td>\n",
       "      <td>0</td>\n",
       "      <td>1</td>\n",
       "      <td>2</td>\n",
       "      <td>1</td>\n",
       "      <td>0</td>\n",
       "      <td>1</td>\n",
       "      <td>2</td>\n",
       "      <td>1</td>\n",
       "      <td>...</td>\n",
       "      <td>2</td>\n",
       "      <td>1</td>\n",
       "      <td>1</td>\n",
       "      <td>0</td>\n",
       "      <td>4</td>\n",
       "      <td>0</td>\n",
       "      <td>0</td>\n",
       "      <td>9</td>\n",
       "      <td>0</td>\n",
       "      <td>0</td>\n",
       "    </tr>\n",
       "  </tbody>\n",
       "</table>\n",
       "<p>5 rows × 66 columns</p>\n",
       "</div>"
      ],
      "text/plain": [
       "         activism  ads  adult  adverts  animals  art  auto  beauty  blog  \\\n",
       "user_id                                                                    \n",
       "821             5    0      0        2        0    1     0       0     1   \n",
       "1292            0    0      0        0        0    0     0       0     0   \n",
       "3172            0    7      0        1        2    0     3       1     4   \n",
       "3326            2    0      0        0        2    4     5       0     1   \n",
       "3357            0    1      0        1        2    1     0       1     2   \n",
       "\n",
       "         business  ...  service  shopping  site  society  sport  teacher  \\\n",
       "user_id            ...                                                     \n",
       "821             2  ...        5         3     1        0      6        0   \n",
       "1292            0  ...        0         0     0        0      4        0   \n",
       "3172           12  ...        2         2     7        2      4        0   \n",
       "3326            3  ...        1         0     2        5      1        0   \n",
       "3357            1  ...        2         1     1        0      4        0   \n",
       "\n",
       "         technology  travel  university  videogames  \n",
       "user_id                                              \n",
       "821               0       3           0           0  \n",
       "1292              0       0           0           0  \n",
       "3172              2       5           0           0  \n",
       "3326              9      23           3           0  \n",
       "3357              0       9           0           0  \n",
       "\n",
       "[5 rows x 66 columns]"
      ]
     },
     "execution_count": 254,
     "metadata": {},
     "output_type": "execute_result"
    }
   ],
   "source": [
    "df_pivot.head()"
   ]
  },
  {
   "cell_type": "markdown",
   "id": "23f16df5",
   "metadata": {},
   "source": [
    "## Кластеризация\n",
    "Воспользуемся методом k-средний (k-means), чтобы на основе тэгов разделить пописчиков групп библиотек на кластеры с общими интересами"
   ]
  },
  {
   "cell_type": "markdown",
   "id": "ef0912d6",
   "metadata": {},
   "source": [
    "#### Стандартизация\n",
    "Приведем все данные к Z-значениям по формуле.\n",
    "\n",
    "$$\n",
    "Z = \\frac{X - \\text u}{\\text sd}\n",
    "$$\n",
    "\n",
    "Где:\n",
    "+ Х - значение\n",
    "+ u - среднее значение\n",
    "+ sd - стандартное отклонение\n",
    "\n",
    "Это делается для того, чтобы избежать искажения результатов выборки из-за выбросов, а также учесть влияние всех переменных. "
   ]
  },
  {
   "cell_type": "code",
   "execution_count": 29,
   "id": "7c3c6eb0",
   "metadata": {},
   "outputs": [],
   "source": [
    "# Стандартизация данных\n",
    "scaler = StandardScaler()\n",
    "scaled_data = scaler.fit_transform(df_pivot)"
   ]
  },
  {
   "cell_type": "markdown",
   "id": "909d8b88",
   "metadata": {},
   "source": [
    "#### Определение оптимального числа кластеров\n",
    "Воспользуемся методом локтя, чтобы определить нужное нам число кластеров"
   ]
  },
  {
   "cell_type": "code",
   "execution_count": 30,
   "id": "01e699e8",
   "metadata": {},
   "outputs": [
    {
     "data": {
      "image/png": "[encoded data removed]",
      "text/plain": [
       "<Figure size 640x480 with 1 Axes>"
      ]
     },
     "metadata": {},
     "output_type": "display_data"
    }
   ],
   "source": [
    "# Вычисление суммы квадратов расстояний для разного числа кластеров\n",
    "sum_of_squared_distances = []\n",
    "K = range(1, 10)\n",
    "for k in K:\n",
    "    kmeans = KMeans(n_clusters=k)\n",
    "    kmeans.fit(scaled_data)\n",
    "    sum_of_squared_distances.append(kmeans.inertia_)\n",
    "\n",
    "# Визуализация метода локтя\n",
    "plt.plot(K, sum_of_squared_distances, 'bx-')\n",
    "plt.xlabel('Число кластеров')\n",
    "plt.ylabel('Сумма квадратов расстояний')\n",
    "plt.title('Метод локтя')\n",
    "plt.show()"
   ]
  },
  {
   "cell_type": "markdown",
   "id": "ab66b49c",
   "metadata": {},
   "source": [
    "На графике не наблюдаем очень явный излом. Небольшие перемены есть на значениях 2 и 3, однако заказчик просил как можно подробнее описать аудиторию, поэтому возьмём побольше кластеров. Методом подбора было выбрано число 6."
   ]
  },
  {
   "cell_type": "markdown",
   "id": "5d13d07b",
   "metadata": {},
   "source": [
    "#### Применение алгоритма k-средних"
   ]
  },
  {
   "cell_type": "code",
   "execution_count": 31,
   "id": "045b8343",
   "metadata": {},
   "outputs": [
    {
     "data": {
      "text/plain": [
       "KMeans(n_clusters=6)"
      ]
     },
     "execution_count": 31,
     "metadata": {},
     "output_type": "execute_result"
    }
   ],
   "source": [
    "k = 6 # Число кластеров\n",
    "kmeans = KMeans(n_clusters=k, max_iter=300)\n",
    "kmeans.fit(scaled_data)\n"
   ]
  },
  {
   "cell_type": "code",
   "execution_count": 265,
   "id": "07fc40aa",
   "metadata": {},
   "outputs": [],
   "source": [
    "# Получение меток кластеров\n",
    "labels = kmeans.labels_\n",
    "\n",
    "# Добавление меток кластеров в исходный датафрейм\n",
    "df_pivot['cluster'] = labels"
   ]
  },
  {
   "cell_type": "code",
   "execution_count": 276,
   "id": "5797c6f6",
   "metadata": {},
   "outputs": [],
   "source": [
    "# Изменим номера кластеров на буквы, чтобы легче читалось\n",
    "df_pivot['cluster'] = df_pivot.cluster.apply(lambda x: [i for i in 'ABCDEF'][x])"
   ]
  },
  {
   "cell_type": "markdown",
   "id": "71d56519",
   "metadata": {},
   "source": [
    "## Результаты"
   ]
  },
  {
   "cell_type": "markdown",
   "id": "9f3a1330",
   "metadata": {},
   "source": [
    "#### Для начала выведем топ-15 самых популярных тэгов для каждого кластера"
   ]
  },
  {
   "cell_type": "code",
   "execution_count": 317,
   "id": "a942c8b3",
   "metadata": {
    "scrolled": true
   },
   "outputs": [
    {
     "name": "stdout",
     "output_type": "stream",
     "text": [
      "Cluster A:\n",
      "     humor 19.714545\n",
      "creativity 11.876364\n",
      "     music 10.905455\n",
      " cinema_tv 10.700000\n",
      "literature 10.500000\n",
      "     photo  8.960000\n",
      " education  7.152727\n",
      "   science  5.996364\n",
      "      city  5.929091\n",
      "   culture  5.718182\n",
      "   fashion  5.530909\n",
      "   animals  4.847273\n",
      "       art  4.069091\n",
      "     media  3.981818\n",
      "perfomance  3.649091\n",
      "\n",
      "Cluster B:\n",
      "literature 4.175099\n",
      "      city 3.293035\n",
      "creativity 2.505585\n",
      " education 2.444152\n",
      "     humor 1.845598\n",
      "   culture 1.694152\n",
      "    travel 1.667871\n",
      " cinema_tv 1.615966\n",
      "     music 1.511827\n",
      "  children 1.504928\n",
      "     media 1.356767\n",
      "perfomance 1.325887\n",
      "government 1.309461\n",
      "   courses 1.285151\n",
      "    health 1.249671\n",
      "\n",
      "Cluster C:\n",
      "     adverts 16.138614\n",
      "        city 15.953795\n",
      "       music 15.755776\n",
      "        auto  9.900990\n",
      "  videogames  7.260726\n",
      "         job  7.029703\n",
      "       humor  6.726073\n",
      "     service  6.372937\n",
      "      beauty  5.834983\n",
      "     fashion  4.693069\n",
      "  technology  4.580858\n",
      "construction  4.343234\n",
      "       sport  4.254125\n",
      "       media  4.227723\n",
      "   cinema_tv  4.191419\n",
      "\n",
      "Cluster D:\n",
      "creativity 10.961390\n",
      "      city  9.687259\n",
      "  children  8.206178\n",
      "   cooking  7.506564\n",
      " education  7.415444\n",
      "    health  6.914286\n",
      "literature  6.674903\n",
      "     humor  6.012355\n",
      "   fashion  5.962162\n",
      "    beauty  5.608494\n",
      "    design  5.474903\n",
      "    travel  5.264865\n",
      "   courses  4.677992\n",
      " cinema_tv  4.573745\n",
      "     media  4.100386\n",
      "\n",
      "Cluster E:\n",
      "literature 23.248039\n",
      "      city 12.939216\n",
      " education 10.757843\n",
      "   culture  9.574510\n",
      "     media  7.515686\n",
      "perfomance  7.458824\n",
      "government  7.142157\n",
      "creativity  6.862745\n",
      "    travel  6.016667\n",
      "     music  5.781373\n",
      "   science  5.618627\n",
      " cinema_tv  5.531373\n",
      "  activism  5.470588\n",
      "   courses  4.529412\n",
      "    museum  4.021569\n",
      "\n",
      "Cluster F:\n",
      "public page 26.406504\n",
      "      music 12.333333\n",
      "      humor  7.861789\n",
      "      photo  6.707317\n",
      "   shopping  6.544715\n",
      "      sport  6.268293\n",
      "       site  5.918699\n",
      "    service  5.845528\n",
      "  cinema_tv  5.487805\n",
      " creativity  5.382114\n",
      " literature  5.284553\n",
      "       auto  5.146341\n",
      "       city  4.910569\n",
      "    fashion  4.731707\n",
      "    culture  4.365854\n",
      "\n"
     ]
    }
   ],
   "source": [
    "cluster_data = df_pivot.groupby('cluster', as_index=False).mean()\n",
    "\n",
    "# Получение списка столбцов с тегами\n",
    "tag_columns = cluster_data.iloc[:, 1:].columns\n",
    "\n",
    "# Топ-15 тегов для каждого кластера\n",
    "for cluster in cluster_data['cluster'].unique():\n",
    "    print(f\"Cluster {cluster}:\")\n",
    "    cluster_tags = cluster_data.loc[cluster_data['cluster'] == cluster, tag_columns]\n",
    "    top_tags = cluster_tags.melt().nlargest(15, 'value').reset_index(drop=True)\n",
    "    print(top_tags.to_string(index=False, header=False))\n",
    "    print()"
   ]
  },
  {
   "cell_type": "markdown",
   "id": "dfed51be",
   "metadata": {},
   "source": [
    "####  Построим свобдную таблицу с информацией по каждому кластеру"
   ]
  },
  {
   "cell_type": "code",
   "execution_count": 318,
   "id": "e996f85e",
   "metadata": {},
   "outputs": [],
   "source": [
    "# Сначала построим таблицу с количеством пользователей в каждом кластере и их долей от общего числа\n",
    "clstr = pd.concat([df_pivot.cluster.value_counts(),\n",
    "                     df_pivot.cluster.value_counts(normalize=True).apply(lambda x: x * 100)],\n",
    "                    axis=1,\n",
    "                    keys=('count_users', 'percent'))\n",
    "\n",
    "\n",
    "clstr = clstr.reset_index().rename(columns={'index':'cluster'})"
   ]
  },
  {
   "cell_type": "code",
   "execution_count": 319,
   "id": "8f73bd2b",
   "metadata": {},
   "outputs": [],
   "source": [
    "# Теперь посчитаем количество подписок у каждого пользователя\n",
    "group_count = df.groupby('user_id', as_index=False) \\\n",
    "    .agg({'subscription_id': 'count'}) \\\n",
    "    .rename(columns={'subscription_id':'group_count'})\n",
    "\n",
    "clustered_users = df_pivot.reset_index()\n",
    "\n",
    "# И объединим их с таблицей с кластерами\n",
    "merged_users = clustered_users.merge(group_count, on='user_id', how='inner')\n",
    "\n",
    "# Посчитаем среднее количество подписок у пользователя в каждом кластере\n",
    "gr_cnt = merged_users.groupby('cluster', as_index=False) \\\n",
    "            .agg({'group_count': 'mean'})"
   ]
  },
  {
   "cell_type": "code",
   "execution_count": 344,
   "id": "0493902e",
   "metadata": {},
   "outputs": [
    {
     "data": {
      "text/html": [
       "<div>\n",
       "<style scoped>\n",
       "    .dataframe tbody tr th:only-of-type {\n",
       "        vertical-align: middle;\n",
       "    }\n",
       "\n",
       "    .dataframe tbody tr th {\n",
       "        vertical-align: top;\n",
       "    }\n",
       "\n",
       "    .dataframe thead th {\n",
       "        text-align: right;\n",
       "    }\n",
       "</style>\n",
       "<table border=\"1\" class=\"dataframe\">\n",
       "  <thead>\n",
       "    <tr style=\"text-align: right;\">\n",
       "      <th></th>\n",
       "      <th>cluster</th>\n",
       "      <th>count_users</th>\n",
       "      <th>percent</th>\n",
       "      <th>group_count</th>\n",
       "    </tr>\n",
       "  </thead>\n",
       "  <tbody>\n",
       "    <tr>\n",
       "      <th>0</th>\n",
       "      <td>B</td>\n",
       "      <td>3044</td>\n",
       "      <td>48.050513</td>\n",
       "      <td>50.918857</td>\n",
       "    </tr>\n",
       "    <tr>\n",
       "      <th>1</th>\n",
       "      <td>D</td>\n",
       "      <td>1295</td>\n",
       "      <td>20.441989</td>\n",
       "      <td>172.358301</td>\n",
       "    </tr>\n",
       "    <tr>\n",
       "      <th>2</th>\n",
       "      <td>E</td>\n",
       "      <td>1020</td>\n",
       "      <td>16.101026</td>\n",
       "      <td>181.662745</td>\n",
       "    </tr>\n",
       "    <tr>\n",
       "      <th>3</th>\n",
       "      <td>A</td>\n",
       "      <td>550</td>\n",
       "      <td>8.681926</td>\n",
       "      <td>180.774545</td>\n",
       "    </tr>\n",
       "    <tr>\n",
       "      <th>4</th>\n",
       "      <td>C</td>\n",
       "      <td>303</td>\n",
       "      <td>4.782952</td>\n",
       "      <td>191.234323</td>\n",
       "    </tr>\n",
       "    <tr>\n",
       "      <th>5</th>\n",
       "      <td>F</td>\n",
       "      <td>123</td>\n",
       "      <td>1.941594</td>\n",
       "      <td>186.577236</td>\n",
       "    </tr>\n",
       "  </tbody>\n",
       "</table>\n",
       "</div>"
      ],
      "text/plain": [
       "  cluster  count_users    percent  group_count\n",
       "0       B         3044  48.050513    50.918857\n",
       "1       D         1295  20.441989   172.358301\n",
       "2       E         1020  16.101026   181.662745\n",
       "3       A          550   8.681926   180.774545\n",
       "4       C          303   4.782952   191.234323\n",
       "5       F          123   1.941594   186.577236"
      ]
     },
     "execution_count": 344,
     "metadata": {},
     "output_type": "execute_result"
    }
   ],
   "source": [
    "# Выведем всё вместе\n",
    "\n",
    "data = clstr.merge(gr_cnt, on='cluster', how='inner')\n",
    "\n",
    "data"
   ]
  },
  {
   "cell_type": "code",
   "execution_count": 345,
   "id": "476f3b9d",
   "metadata": {},
   "outputs": [
    {
     "data": {
      "image/png": "[encoded data removed]",
      "text/plain": [
       "<Figure size 640x480 with 1 Axes>"
      ]
     },
     "metadata": {},
     "output_type": "display_data"
    }
   ],
   "source": [
    "data['cluster'] = data['cluster'].apply(str)\n",
    "for_plot = data[['cluster', 'count_users']]\n",
    "\n",
    "ax = sns.barplot(data=for_plot,\n",
    "                 x='count_users',\n",
    "                 y='cluster')\n",
    "ax.set_xlabel('Количество пользователей')\n",
    "ax.set_ylabel('Кластер')\n",
    "plt.show()"
   ]
  },
  {
   "cell_type": "markdown",
   "id": "b6a80753",
   "metadata": {},
   "source": [
    "#### Пол и возраст в кластерах"
   ]
  },
  {
   "cell_type": "markdown",
   "id": "ed16bad4",
   "metadata": {},
   "source": [
    "Импортируем датасет с демографическими данными"
   ]
  },
  {
   "cell_type": "code",
   "execution_count": 346,
   "id": "cb2b174f",
   "metadata": {},
   "outputs": [
    {
     "data": {
      "text/html": [
       "<div>\n",
       "<style scoped>\n",
       "    .dataframe tbody tr th:only-of-type {\n",
       "        vertical-align: middle;\n",
       "    }\n",
       "\n",
       "    .dataframe tbody tr th {\n",
       "        vertical-align: top;\n",
       "    }\n",
       "\n",
       "    .dataframe thead th {\n",
       "        text-align: right;\n",
       "    }\n",
       "</style>\n",
       "<table border=\"1\" class=\"dataframe\">\n",
       "  <thead>\n",
       "    <tr style=\"text-align: right;\">\n",
       "      <th></th>\n",
       "      <th>id</th>\n",
       "      <th>sex</th>\n",
       "      <th>bdate</th>\n",
       "      <th>city</th>\n",
       "      <th>university</th>\n",
       "      <th>graduation</th>\n",
       "      <th>is_closed</th>\n",
       "      <th>group_name</th>\n",
       "      <th>age</th>\n",
       "    </tr>\n",
       "  </thead>\n",
       "  <tbody>\n",
       "    <tr>\n",
       "      <th>0</th>\n",
       "      <td>1378</td>\n",
       "      <td>female</td>\n",
       "      <td>2.2</td>\n",
       "      <td>Санкт-Петербург</td>\n",
       "      <td>СПбГУ</td>\n",
       "      <td>2010.0</td>\n",
       "      <td>True</td>\n",
       "      <td>Библиотеки Приморского района</td>\n",
       "      <td>NaN</td>\n",
       "    </tr>\n",
       "    <tr>\n",
       "      <th>1</th>\n",
       "      <td>2006</td>\n",
       "      <td>female</td>\n",
       "      <td>18.8.1984</td>\n",
       "      <td>Санкт-Петербург</td>\n",
       "      <td>СПбГИК</td>\n",
       "      <td>2006.0</td>\n",
       "      <td>True</td>\n",
       "      <td>Библиотеки Приморского района</td>\n",
       "      <td>39.0</td>\n",
       "    </tr>\n",
       "    <tr>\n",
       "      <th>2</th>\n",
       "      <td>3269</td>\n",
       "      <td>male</td>\n",
       "      <td>26.12.1986</td>\n",
       "      <td>Санкт-Петербург</td>\n",
       "      <td>NaN</td>\n",
       "      <td>NaN</td>\n",
       "      <td>True</td>\n",
       "      <td>Библиотеки Приморского района</td>\n",
       "      <td>37.0</td>\n",
       "    </tr>\n",
       "    <tr>\n",
       "      <th>3</th>\n",
       "      <td>3326</td>\n",
       "      <td>male</td>\n",
       "      <td>6.5.1986</td>\n",
       "      <td>Санкт-Петербург</td>\n",
       "      <td>СПбГЭТУ</td>\n",
       "      <td>2009.0</td>\n",
       "      <td>False</td>\n",
       "      <td>Библиотеки Приморского района</td>\n",
       "      <td>37.0</td>\n",
       "    </tr>\n",
       "    <tr>\n",
       "      <th>4</th>\n",
       "      <td>3357</td>\n",
       "      <td>female</td>\n",
       "      <td>13.8</td>\n",
       "      <td>Санкт-Петербург</td>\n",
       "      <td>NaN</td>\n",
       "      <td>NaN</td>\n",
       "      <td>False</td>\n",
       "      <td>Библиотеки Приморского района</td>\n",
       "      <td>NaN</td>\n",
       "    </tr>\n",
       "  </tbody>\n",
       "</table>\n",
       "</div>"
      ],
      "text/plain": [
       "     id     sex       bdate             city university  graduation  \\\n",
       "0  1378  female         2.2  Санкт-Петербург      СПбГУ      2010.0   \n",
       "1  2006  female   18.8.1984  Санкт-Петербург     СПбГИК      2006.0   \n",
       "2  3269    male  26.12.1986  Санкт-Петербург        NaN         NaN   \n",
       "3  3326    male    6.5.1986  Санкт-Петербург    СПбГЭТУ      2009.0   \n",
       "4  3357  female        13.8  Санкт-Петербург        NaN         NaN   \n",
       "\n",
       "   is_closed                     group_name   age  \n",
       "0       True  Библиотеки Приморского района   NaN  \n",
       "1       True  Библиотеки Приморского района  39.0  \n",
       "2       True  Библиотеки Приморского района  37.0  \n",
       "3      False  Библиотеки Приморского района  37.0  \n",
       "4      False  Библиотеки Приморского района   NaN  "
      ]
     },
     "execution_count": 346,
     "metadata": {},
     "output_type": "execute_result"
    }
   ],
   "source": [
    "subs_info = pd.read_csv('subscribers_data_final.csv', index_col=0)\n",
    "subs_info.head()"
   ]
  },
  {
   "cell_type": "markdown",
   "id": "854eea28",
   "metadata": {},
   "source": [
    "Отберем нужные колонки"
   ]
  },
  {
   "cell_type": "code",
   "execution_count": 347,
   "id": "5fbdb6c4",
   "metadata": {},
   "outputs": [
    {
     "data": {
      "text/html": [
       "<div>\n",
       "<style scoped>\n",
       "    .dataframe tbody tr th:only-of-type {\n",
       "        vertical-align: middle;\n",
       "    }\n",
       "\n",
       "    .dataframe tbody tr th {\n",
       "        vertical-align: top;\n",
       "    }\n",
       "\n",
       "    .dataframe thead th {\n",
       "        text-align: right;\n",
       "    }\n",
       "</style>\n",
       "<table border=\"1\" class=\"dataframe\">\n",
       "  <thead>\n",
       "    <tr style=\"text-align: right;\">\n",
       "      <th></th>\n",
       "      <th>user_id</th>\n",
       "      <th>sex</th>\n",
       "      <th>age</th>\n",
       "    </tr>\n",
       "  </thead>\n",
       "  <tbody>\n",
       "    <tr>\n",
       "      <th>0</th>\n",
       "      <td>1378</td>\n",
       "      <td>female</td>\n",
       "      <td>NaN</td>\n",
       "    </tr>\n",
       "    <tr>\n",
       "      <th>1</th>\n",
       "      <td>2006</td>\n",
       "      <td>female</td>\n",
       "      <td>39.0</td>\n",
       "    </tr>\n",
       "    <tr>\n",
       "      <th>2</th>\n",
       "      <td>3269</td>\n",
       "      <td>male</td>\n",
       "      <td>37.0</td>\n",
       "    </tr>\n",
       "    <tr>\n",
       "      <th>3</th>\n",
       "      <td>3326</td>\n",
       "      <td>male</td>\n",
       "      <td>37.0</td>\n",
       "    </tr>\n",
       "    <tr>\n",
       "      <th>4</th>\n",
       "      <td>3357</td>\n",
       "      <td>female</td>\n",
       "      <td>NaN</td>\n",
       "    </tr>\n",
       "  </tbody>\n",
       "</table>\n",
       "</div>"
      ],
      "text/plain": [
       "   user_id     sex   age\n",
       "0     1378  female   NaN\n",
       "1     2006  female  39.0\n",
       "2     3269    male  37.0\n",
       "3     3326    male  37.0\n",
       "4     3357  female   NaN"
      ]
     },
     "execution_count": 347,
     "metadata": {},
     "output_type": "execute_result"
    }
   ],
   "source": [
    "subs_info = subs_info[['id', 'sex', 'age']].rename(columns={'id': 'user_id'}).drop_duplicates()\n",
    "subs_info.head()"
   ]
  },
  {
   "cell_type": "markdown",
   "id": "e3fddd99",
   "metadata": {},
   "source": [
    "Соединим информацию о поле с датасетом с подписками и добавим в таблицу"
   ]
  },
  {
   "cell_type": "code",
   "execution_count": 348,
   "id": "2059b1c1",
   "metadata": {},
   "outputs": [
    {
     "data": {
      "text/html": [
       "<div>\n",
       "<style scoped>\n",
       "    .dataframe tbody tr th:only-of-type {\n",
       "        vertical-align: middle;\n",
       "    }\n",
       "\n",
       "    .dataframe tbody tr th {\n",
       "        vertical-align: top;\n",
       "    }\n",
       "\n",
       "    .dataframe thead th {\n",
       "        text-align: right;\n",
       "    }\n",
       "</style>\n",
       "<table border=\"1\" class=\"dataframe\">\n",
       "  <thead>\n",
       "    <tr style=\"text-align: right;\">\n",
       "      <th></th>\n",
       "      <th>cluster</th>\n",
       "      <th>count_users</th>\n",
       "      <th>percent</th>\n",
       "      <th>group_count</th>\n",
       "      <th>female</th>\n",
       "      <th>male</th>\n",
       "    </tr>\n",
       "  </thead>\n",
       "  <tbody>\n",
       "    <tr>\n",
       "      <th>0</th>\n",
       "      <td>B</td>\n",
       "      <td>3044</td>\n",
       "      <td>48.050513</td>\n",
       "      <td>50.918857</td>\n",
       "      <td>2620</td>\n",
       "      <td>422</td>\n",
       "    </tr>\n",
       "    <tr>\n",
       "      <th>1</th>\n",
       "      <td>D</td>\n",
       "      <td>1295</td>\n",
       "      <td>20.441989</td>\n",
       "      <td>172.358301</td>\n",
       "      <td>1271</td>\n",
       "      <td>24</td>\n",
       "    </tr>\n",
       "    <tr>\n",
       "      <th>2</th>\n",
       "      <td>E</td>\n",
       "      <td>1020</td>\n",
       "      <td>16.101026</td>\n",
       "      <td>181.662745</td>\n",
       "      <td>831</td>\n",
       "      <td>189</td>\n",
       "    </tr>\n",
       "    <tr>\n",
       "      <th>3</th>\n",
       "      <td>A</td>\n",
       "      <td>550</td>\n",
       "      <td>8.681926</td>\n",
       "      <td>180.774545</td>\n",
       "      <td>416</td>\n",
       "      <td>134</td>\n",
       "    </tr>\n",
       "    <tr>\n",
       "      <th>4</th>\n",
       "      <td>C</td>\n",
       "      <td>303</td>\n",
       "      <td>4.782952</td>\n",
       "      <td>191.234323</td>\n",
       "      <td>113</td>\n",
       "      <td>190</td>\n",
       "    </tr>\n",
       "    <tr>\n",
       "      <th>5</th>\n",
       "      <td>F</td>\n",
       "      <td>123</td>\n",
       "      <td>1.941594</td>\n",
       "      <td>186.577236</td>\n",
       "      <td>71</td>\n",
       "      <td>52</td>\n",
       "    </tr>\n",
       "  </tbody>\n",
       "</table>\n",
       "</div>"
      ],
      "text/plain": [
       "  cluster  count_users    percent  group_count  female  male\n",
       "0       B         3044  48.050513    50.918857    2620   422\n",
       "1       D         1295  20.441989   172.358301    1271    24\n",
       "2       E         1020  16.101026   181.662745     831   189\n",
       "3       A          550   8.681926   180.774545     416   134\n",
       "4       C          303   4.782952   191.234323     113   190\n",
       "5       F          123   1.941594   186.577236      71    52"
      ]
     },
     "execution_count": 348,
     "metadata": {},
     "output_type": "execute_result"
    }
   ],
   "source": [
    "# Добавляем колонки в датасет\n",
    "merged_sex_age = merged_users.merge(subs_info, on='user_id', how='inner')\n",
    "\n",
    "# Считаем количество представителей каждого пола\n",
    "sex = merged_sex_age.groupby(['cluster', 'sex'], as_index=False) \\\n",
    "            .agg({'user_id': 'count'}) \\\n",
    "            .pivot(index='cluster', columns='sex', values='user_id') \\\n",
    "            .reset_index()\n",
    "\n",
    "#Добавляем\n",
    "data = data.merge(sex, on='cluster', how='inner')\n",
    "\n",
    "data"
   ]
  },
  {
   "cell_type": "code",
   "execution_count": 349,
   "id": "42dcb371",
   "metadata": {},
   "outputs": [],
   "source": [
    "#Посчитаем процентное соотношение\n",
    "data['female'] = round(data.female / data.count_users * 100, 2)\n",
    "data['male'] = round(data.male / data.count_users * 100, 2)"
   ]
  },
  {
   "cell_type": "markdown",
   "id": "76437782",
   "metadata": {},
   "source": [
    "С возрастом будет сложнее делать какие-то выводы, так как более чем у половины пользователей он не указан"
   ]
  },
  {
   "cell_type": "code",
   "execution_count": 350,
   "id": "44e3ede7",
   "metadata": {},
   "outputs": [
    {
     "data": {
      "text/plain": [
       "3630"
      ]
     },
     "execution_count": 350,
     "metadata": {},
     "output_type": "execute_result"
    }
   ],
   "source": [
    "merged_sex_age[['user_id', 'age']].drop_duplicates().age.isna().sum()"
   ]
  },
  {
   "cell_type": "markdown",
   "id": "b5b29064",
   "metadata": {},
   "source": [
    "Тем не менее, добавим его в таблицу. Резульатат заказчику будем представлять с оговоркой"
   ]
  },
  {
   "cell_type": "code",
   "execution_count": 352,
   "id": "2329d01b",
   "metadata": {},
   "outputs": [],
   "source": [
    "# Считаем средний возраст\n",
    "age = merged_sex_age.groupby('cluster', as_index=False) \\\n",
    "                .agg({'age': ['mean', 'count']})\n",
    "age.columns = ['cluster', 'mean_age', 'count_age']\n",
    "\n",
    "data = data.merge(age, on='cluster', how='inner')"
   ]
  },
  {
   "cell_type": "code",
   "execution_count": 353,
   "id": "bf07b53e",
   "metadata": {},
   "outputs": [],
   "source": [
    "# Переименуем колонки\n",
    "new_names = ['Кластер', \n",
    "             'Количество пользователей', \n",
    "             'Процент', \n",
    "             'Среднее количество подписок у пользователей',\n",
    "             'Процент женщин',\n",
    "             'Процент мужчин',\n",
    "             'Средний возраст',\n",
    "             'Процент указавших возраст']\n",
    "data.columns = new_names"
   ]
  },
  {
   "cell_type": "code",
   "execution_count": 354,
   "id": "a267721e",
   "metadata": {},
   "outputs": [],
   "source": [
    "data['Процент указавших возраст'] = round(data['Процент указавших возраст'] / data['Количество пользователей'] * 100, 2)"
   ]
  },
  {
   "cell_type": "code",
   "execution_count": 355,
   "id": "1ea1a2f2",
   "metadata": {},
   "outputs": [
    {
     "data": {
      "text/html": [
       "<div>\n",
       "<style scoped>\n",
       "    .dataframe tbody tr th:only-of-type {\n",
       "        vertical-align: middle;\n",
       "    }\n",
       "\n",
       "    .dataframe tbody tr th {\n",
       "        vertical-align: top;\n",
       "    }\n",
       "\n",
       "    .dataframe thead th {\n",
       "        text-align: right;\n",
       "    }\n",
       "</style>\n",
       "<table border=\"1\" class=\"dataframe\">\n",
       "  <thead>\n",
       "    <tr style=\"text-align: right;\">\n",
       "      <th></th>\n",
       "      <th>Кластер</th>\n",
       "      <th>Количество пользователей</th>\n",
       "      <th>Процент</th>\n",
       "      <th>Среднее количество подписок у пользователей</th>\n",
       "      <th>Процент женщин</th>\n",
       "      <th>Процент мужчин</th>\n",
       "      <th>Средний возраст</th>\n",
       "      <th>Процент указавших возраст</th>\n",
       "    </tr>\n",
       "  </thead>\n",
       "  <tbody>\n",
       "    <tr>\n",
       "      <th>0</th>\n",
       "      <td>B</td>\n",
       "      <td>3044</td>\n",
       "      <td>48.050513</td>\n",
       "      <td>50.918857</td>\n",
       "      <td>86.07</td>\n",
       "      <td>13.86</td>\n",
       "      <td>43.735531</td>\n",
       "      <td>44.84</td>\n",
       "    </tr>\n",
       "    <tr>\n",
       "      <th>1</th>\n",
       "      <td>D</td>\n",
       "      <td>1295</td>\n",
       "      <td>20.441989</td>\n",
       "      <td>172.358301</td>\n",
       "      <td>98.15</td>\n",
       "      <td>1.85</td>\n",
       "      <td>43.087640</td>\n",
       "      <td>34.36</td>\n",
       "    </tr>\n",
       "    <tr>\n",
       "      <th>2</th>\n",
       "      <td>E</td>\n",
       "      <td>1020</td>\n",
       "      <td>16.101026</td>\n",
       "      <td>181.662745</td>\n",
       "      <td>81.47</td>\n",
       "      <td>18.53</td>\n",
       "      <td>48.407507</td>\n",
       "      <td>36.57</td>\n",
       "    </tr>\n",
       "    <tr>\n",
       "      <th>3</th>\n",
       "      <td>A</td>\n",
       "      <td>550</td>\n",
       "      <td>8.681926</td>\n",
       "      <td>180.774545</td>\n",
       "      <td>75.64</td>\n",
       "      <td>24.36</td>\n",
       "      <td>32.443983</td>\n",
       "      <td>43.82</td>\n",
       "    </tr>\n",
       "    <tr>\n",
       "      <th>4</th>\n",
       "      <td>C</td>\n",
       "      <td>303</td>\n",
       "      <td>4.782952</td>\n",
       "      <td>191.234323</td>\n",
       "      <td>37.29</td>\n",
       "      <td>62.71</td>\n",
       "      <td>33.115880</td>\n",
       "      <td>76.90</td>\n",
       "    </tr>\n",
       "    <tr>\n",
       "      <th>5</th>\n",
       "      <td>F</td>\n",
       "      <td>123</td>\n",
       "      <td>1.941594</td>\n",
       "      <td>186.577236</td>\n",
       "      <td>57.72</td>\n",
       "      <td>42.28</td>\n",
       "      <td>38.895833</td>\n",
       "      <td>39.02</td>\n",
       "    </tr>\n",
       "  </tbody>\n",
       "</table>\n",
       "</div>"
      ],
      "text/plain": [
       "  Кластер  Количество пользователей    Процент  \\\n",
       "0       B                      3044  48.050513   \n",
       "1       D                      1295  20.441989   \n",
       "2       E                      1020  16.101026   \n",
       "3       A                       550   8.681926   \n",
       "4       C                       303   4.782952   \n",
       "5       F                       123   1.941594   \n",
       "\n",
       "   Среднее количество подписок у пользователей  Процент женщин  \\\n",
       "0                                    50.918857           86.07   \n",
       "1                                   172.358301           98.15   \n",
       "2                                   181.662745           81.47   \n",
       "3                                   180.774545           75.64   \n",
       "4                                   191.234323           37.29   \n",
       "5                                   186.577236           57.72   \n",
       "\n",
       "   Процент мужчин  Средний возраст  Процент указавших возраст  \n",
       "0           13.86        43.735531                      44.84  \n",
       "1            1.85        43.087640                      34.36  \n",
       "2           18.53        48.407507                      36.57  \n",
       "3           24.36        32.443983                      43.82  \n",
       "4           62.71        33.115880                      76.90  \n",
       "5           42.28        38.895833                      39.02  "
      ]
     },
     "execution_count": 355,
     "metadata": {},
     "output_type": "execute_result"
    }
   ],
   "source": [
    "data"
   ]
  },
  {
   "cell_type": "markdown",
   "id": "e7df6053",
   "metadata": {},
   "source": [
    "### Выгрузка данных\n",
    "Выгрузим данные, чтобы визуализировать их в Power BI"
   ]
  },
  {
   "cell_type": "code",
   "execution_count": 167,
   "id": "d40d0c16",
   "metadata": {},
   "outputs": [],
   "source": [
    "df.to_csv('subscriptions_info_final.csv')"
   ]
  },
  {
   "cell_type": "code",
   "execution_count": 168,
   "id": "f7da4a21",
   "metadata": {},
   "outputs": [],
   "source": [
    "df_pivot.to_csv('cluster_data_final.csv')"
   ]
  }
 ],
 "metadata": {
  "kernelspec": {
   "display_name": "Python 3 (ipykernel)",
   "language": "python",
   "name": "python3"
  },
  "language_info": {
   "codemirror_mode": {
    "name": "ipython",
    "version": 3
   },
   "file_extension": ".py",
   "mimetype": "text/x-python",
   "name": "python",
   "nbconvert_exporter": "python",
   "pygments_lexer": "ipython3",
   "version": "3.9.13"
  }
 },
 "nbformat": 4,
 "nbformat_minor": 5
}
